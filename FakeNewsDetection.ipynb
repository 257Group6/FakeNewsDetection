{
  "cells": [
    {
      "cell_type": "markdown",
      "metadata": {
        "id": "qtIRqESKdwNT"
      },
      "source": [
        "#Fake News detection"
      ]
    },
    {
      "cell_type": "code",
      "execution_count": 1,
      "metadata": {
        "id": "x8_f3Swtdqqm"
      },
      "outputs": [
        {
          "name": "stderr",
          "output_type": "stream",
          "text": [
            "[nltk_data] Downloading package stopwords to\n",
            "[nltk_data]     /Users/aryanshelke/nltk_data...\n",
            "[nltk_data]   Package stopwords is already up-to-date!\n",
            "[nltk_data] Downloading package wordnet to\n",
            "[nltk_data]     /Users/aryanshelke/nltk_data...\n",
            "[nltk_data]   Package wordnet is already up-to-date!\n"
          ]
        },
        {
          "data": {
            "text/plain": [
              "True"
            ]
          },
          "execution_count": 1,
          "metadata": {},
          "output_type": "execute_result"
        }
      ],
      "source": [
        "import os\n",
        "import re\n",
        "import numpy as np\n",
        "import pandas as pd\n",
        "import seaborn as sns\n",
        "import matplotlib.pyplot as plt\n",
        "import nltk\n",
        "import pickle\n",
        "import warnings\n",
        "import ssl\n",
        "from nltk.corpus import stopwords\n",
        "from nltk.stem import WordNetLemmatizer\n",
        "from sklearn.feature_extraction.text import TfidfVectorizer\n",
        "from sklearn.model_selection import train_test_split\n",
        "from sklearn.linear_model import LogisticRegression\n",
        "from sklearn.metrics import accuracy_score, classification_report\n",
        "\n",
        "try:\n",
        "    _create_unverified_https_context = ssl._create_unverified_context\n",
        "except AttributeError:\n",
        "    pass\n",
        "else:\n",
        "    ssl._create_default_https_context = _create_unverified_https_context\n",
        "\n",
        "nltk.download('stopwords')\n",
        "nltk.download('wordnet')"
      ]
    },
    {
      "cell_type": "markdown",
      "metadata": {
        "id": "pYLB13SPlY40"
      },
      "source": [
        "###Load Dataset"
      ]
    },
    {
      "cell_type": "code",
      "execution_count": 2,
      "metadata": {
        "colab": {
          "base_uri": "https://localhost:8080/"
        },
        "id": "5eJlhqPBd5BZ",
        "outputId": "a1e4fe9d-ac19-4c34-f470-3dfb02ed26ce"
      },
      "outputs": [
        {
          "data": {
            "text/plain": [
              "((21417, 4), (23481, 4))"
            ]
          },
          "execution_count": 2,
          "metadata": {},
          "output_type": "execute_result"
        }
      ],
      "source": [
        "df_true = pd.read_csv('data/True.csv')\n",
        "df_fake = pd.read_csv('data/Fake.csv')\n",
        "df_true.shape, df_fake.shape"
      ]
    },
    {
      "cell_type": "markdown",
      "metadata": {
        "id": "_QSzsW4cpAH1"
      },
      "source": [
        "###Drop columns \"subject\" and \"subject\". Add column \"label\""
      ]
    },
    {
      "cell_type": "code",
      "execution_count": 3,
      "metadata": {
        "colab": {
          "base_uri": "https://localhost:8080/",
          "height": 206
        },
        "id": "FpoWpcoFo6fI",
        "outputId": "211172e7-cb51-4cc0-fb52-eb801f9d7297"
      },
      "outputs": [
        {
          "data": {
            "text/html": [
              "<div>\n",
              "<style scoped>\n",
              "    .dataframe tbody tr th:only-of-type {\n",
              "        vertical-align: middle;\n",
              "    }\n",
              "\n",
              "    .dataframe tbody tr th {\n",
              "        vertical-align: top;\n",
              "    }\n",
              "\n",
              "    .dataframe thead th {\n",
              "        text-align: right;\n",
              "    }\n",
              "</style>\n",
              "<table border=\"1\" class=\"dataframe\">\n",
              "  <thead>\n",
              "    <tr style=\"text-align: right;\">\n",
              "      <th></th>\n",
              "      <th>title</th>\n",
              "      <th>text</th>\n",
              "      <th>label</th>\n",
              "    </tr>\n",
              "  </thead>\n",
              "  <tbody>\n",
              "    <tr>\n",
              "      <th>0</th>\n",
              "      <td>As U.S. budget fight looms, Republicans flip t...</td>\n",
              "      <td>WASHINGTON (Reuters) - The head of a conservat...</td>\n",
              "      <td>1</td>\n",
              "    </tr>\n",
              "    <tr>\n",
              "      <th>1</th>\n",
              "      <td>U.S. military to accept transgender recruits o...</td>\n",
              "      <td>WASHINGTON (Reuters) - Transgender people will...</td>\n",
              "      <td>1</td>\n",
              "    </tr>\n",
              "    <tr>\n",
              "      <th>2</th>\n",
              "      <td>Senior U.S. Republican senator: 'Let Mr. Muell...</td>\n",
              "      <td>WASHINGTON (Reuters) - The special counsel inv...</td>\n",
              "      <td>1</td>\n",
              "    </tr>\n",
              "    <tr>\n",
              "      <th>3</th>\n",
              "      <td>FBI Russia probe helped by Australian diplomat...</td>\n",
              "      <td>WASHINGTON (Reuters) - Trump campaign adviser ...</td>\n",
              "      <td>1</td>\n",
              "    </tr>\n",
              "    <tr>\n",
              "      <th>4</th>\n",
              "      <td>Trump wants Postal Service to charge 'much mor...</td>\n",
              "      <td>SEATTLE/WASHINGTON (Reuters) - President Donal...</td>\n",
              "      <td>1</td>\n",
              "    </tr>\n",
              "  </tbody>\n",
              "</table>\n",
              "</div>"
            ],
            "text/plain": [
              "                                               title  \\\n",
              "0  As U.S. budget fight looms, Republicans flip t...   \n",
              "1  U.S. military to accept transgender recruits o...   \n",
              "2  Senior U.S. Republican senator: 'Let Mr. Muell...   \n",
              "3  FBI Russia probe helped by Australian diplomat...   \n",
              "4  Trump wants Postal Service to charge 'much mor...   \n",
              "\n",
              "                                                text  label  \n",
              "0  WASHINGTON (Reuters) - The head of a conservat...      1  \n",
              "1  WASHINGTON (Reuters) - Transgender people will...      1  \n",
              "2  WASHINGTON (Reuters) - The special counsel inv...      1  \n",
              "3  WASHINGTON (Reuters) - Trump campaign adviser ...      1  \n",
              "4  SEATTLE/WASHINGTON (Reuters) - President Donal...      1  "
            ]
          },
          "execution_count": 3,
          "metadata": {},
          "output_type": "execute_result"
        }
      ],
      "source": [
        "df_true.drop(['subject', 'date'], axis=1, inplace=True)\n",
        "df_fake.drop(['subject', 'date'], axis=1, inplace=True)\n",
        "df_true['label'] = 1\n",
        "df_fake['label'] = 0\n",
        "df_true.head()"
      ]
    },
    {
      "cell_type": "markdown",
      "metadata": {
        "id": "Xq7OpP3NpbMl"
      },
      "source": [
        "###Merge True and Fake dataset"
      ]
    },
    {
      "cell_type": "code",
      "execution_count": 4,
      "metadata": {
        "colab": {
          "base_uri": "https://localhost:8080/",
          "height": 206
        },
        "id": "LT8Rx1i8o-JQ",
        "outputId": "36b12e0a-2242-4d0e-bfb4-fb87d45d87f7"
      },
      "outputs": [
        {
          "name": "stdout",
          "output_type": "stream",
          "text": [
            "(44898, 3)\n"
          ]
        },
        {
          "data": {
            "text/html": [
              "<div>\n",
              "<style scoped>\n",
              "    .dataframe tbody tr th:only-of-type {\n",
              "        vertical-align: middle;\n",
              "    }\n",
              "\n",
              "    .dataframe tbody tr th {\n",
              "        vertical-align: top;\n",
              "    }\n",
              "\n",
              "    .dataframe thead th {\n",
              "        text-align: right;\n",
              "    }\n",
              "</style>\n",
              "<table border=\"1\" class=\"dataframe\">\n",
              "  <thead>\n",
              "    <tr style=\"text-align: right;\">\n",
              "      <th></th>\n",
              "      <th>title</th>\n",
              "      <th>text</th>\n",
              "      <th>label</th>\n",
              "    </tr>\n",
              "  </thead>\n",
              "  <tbody>\n",
              "    <tr>\n",
              "      <th>0</th>\n",
              "      <td>A DEFENSIVE JOHN KERRY Asks That Israel Move I...</td>\n",
              "      <td>John Kerry gave a long-winded speech today cla...</td>\n",
              "      <td>0</td>\n",
              "    </tr>\n",
              "    <tr>\n",
              "      <th>1</th>\n",
              "      <td>Vatican vows to seek truth about diplomat in c...</td>\n",
              "      <td>ROME (Reuters) - The Vatican, at the start of ...</td>\n",
              "      <td>1</td>\n",
              "    </tr>\n",
              "    <tr>\n",
              "      <th>2</th>\n",
              "      <td>NOT EVERY HOLLYWOOD ACTOR Approved Of Meryl St...</td>\n",
              "      <td>Thank goodness there are still a few courageou...</td>\n",
              "      <td>0</td>\n",
              "    </tr>\n",
              "    <tr>\n",
              "      <th>3</th>\n",
              "      <td>Sean Hannity Throws Hissy Fit After Real Repo...</td>\n",
              "      <td>Just like Donald Trump, Sean Hannity has a thi...</td>\n",
              "      <td>0</td>\n",
              "    </tr>\n",
              "    <tr>\n",
              "      <th>4</th>\n",
              "      <td>At Trump's Cabinet meeting, flattery is flavor...</td>\n",
              "      <td>WASHINGTON (Reuters) - They came to praise Pre...</td>\n",
              "      <td>1</td>\n",
              "    </tr>\n",
              "  </tbody>\n",
              "</table>\n",
              "</div>"
            ],
            "text/plain": [
              "                                               title  \\\n",
              "0  A DEFENSIVE JOHN KERRY Asks That Israel Move I...   \n",
              "1  Vatican vows to seek truth about diplomat in c...   \n",
              "2  NOT EVERY HOLLYWOOD ACTOR Approved Of Meryl St...   \n",
              "3   Sean Hannity Throws Hissy Fit After Real Repo...   \n",
              "4  At Trump's Cabinet meeting, flattery is flavor...   \n",
              "\n",
              "                                                text  label  \n",
              "0  John Kerry gave a long-winded speech today cla...      0  \n",
              "1  ROME (Reuters) - The Vatican, at the start of ...      1  \n",
              "2  Thank goodness there are still a few courageou...      0  \n",
              "3  Just like Donald Trump, Sean Hannity has a thi...      0  \n",
              "4  WASHINGTON (Reuters) - They came to praise Pre...      1  "
            ]
          },
          "execution_count": 4,
          "metadata": {},
          "output_type": "execute_result"
        }
      ],
      "source": [
        "df = pd.concat([df_true,df_fake]).sample(frac=1).reset_index(drop=True)\n",
        "print(df.shape)\n",
        "df.head()"
      ]
    },
    {
      "cell_type": "markdown",
      "metadata": {},
      "source": [
        "###Data preprocessing"
      ]
    },
    {
      "cell_type": "code",
      "execution_count": 5,
      "metadata": {},
      "outputs": [],
      "source": [
        "def preprocess_text(text):\n",
        "    lemmatizer = WordNetLemmatizer()\n",
        "    stop_words = set(stopwords.words('english'))\n",
        "    text = str(text).lower()\n",
        "    text = re.sub(r'[^a-zA-Z\\s]', '', text)\n",
        "    words = [lemmatizer.lemmatize(word) for word in text.split() if word not in stop_words]\n",
        "    return ' '.join(words)\n",
        "df['text'] = df['text'].apply(preprocess_text)"
      ]
    },
    {
      "cell_type": "markdown",
      "metadata": {},
      "source": [
        "###Feature Extraction"
      ]
    },
    {
      "cell_type": "code",
      "execution_count": 6,
      "metadata": {},
      "outputs": [],
      "source": [
        "tfidf_vectorizer = TfidfVectorizer(max_features=5000)\n",
        "X = tfidf_vectorizer.fit_transform(df['text'])\n",
        "y = df['label']"
      ]
    },
    {
      "cell_type": "code",
      "execution_count": 7,
      "metadata": {},
      "outputs": [],
      "source": [
        "# Split data\n",
        "X_train, X_test, y_train, y_test = train_test_split(X, y, test_size=0.2, random_state=42)"
      ]
    },
    {
      "cell_type": "markdown",
      "metadata": {},
      "source": [
        "#Model training"
      ]
    },
    {
      "cell_type": "code",
      "execution_count": 8,
      "metadata": {},
      "outputs": [
        {
          "name": "stdout",
          "output_type": "stream",
          "text": [
            "\n",
            "Logistic Regression Performance:\n",
            "Accuracy: 0.9872\n",
            "\n",
            "Classification Report:\n",
            "              precision    recall  f1-score   support\n",
            "\n",
            "           0     0.9891    0.9863    0.9877      4680\n",
            "           1     0.9852    0.9881    0.9866      4300\n",
            "\n",
            "    accuracy                         0.9872      8980\n",
            "   macro avg     0.9871    0.9872    0.9872      8980\n",
            "weighted avg     0.9872    0.9872    0.9872      8980\n",
            "\n"
          ]
        }
      ],
      "source": [
        "model = LogisticRegression(max_iter=1000)\n",
        "model.fit(X_train, y_train)\n",
        "# Predict on the test set\n",
        "y_pred = model.predict(X_test)\n",
        "print(\"\\nLogistic Regression Performance:\")\n",
        "print(f\"Accuracy: {accuracy_score(y_test, y_pred):.4f}\")\n",
        "print(\"\\nClassification Report:\")\n",
        "print(classification_report(y_test, y_pred, digits=4))"
      ]
    },
    {
      "cell_type": "code",
      "execution_count": 9,
      "metadata": {},
      "outputs": [],
      "source": [
        "with open('models/logistic_regression_model.pkl', 'wb') as f:\n",
        "    pickle.dump(model, f)\n",
        "\n",
        "with open('models/tfidf_vectorizer.pkl', 'wb') as f:\n",
        "    pickle.dump(tfidf_vectorizer, f)"
      ]
    },
    {
      "cell_type": "markdown",
      "metadata": {},
      "source": [
        "###Deploy"
      ]
    },
    {
      "cell_type": "code",
      "execution_count": 12,
      "metadata": {},
      "outputs": [],
      "source": [
        "def detectNews(text):\n",
        "    with open('models/logistic_regression_model.pkl', 'rb') as f:\n",
        "        model = pickle.load(f)\n",
        "        \n",
        "    with open('models/tfidf_vectorizer.pkl', 'rb') as f:\n",
        "        vectorizer = pickle.load(f)\n",
        "\n",
        "    \"\"\"Classify news text as Real or Fake.\"\"\"\n",
        "    processed_text = preprocess_text(text)\n",
        "    text_vector = vectorizer.transform([processed_text])\n",
        "    prediction = model.predict(text_vector)\n",
        "    probability = model.predict_proba(text_vector)\n",
        "\n",
        "    label = \"Real News\" if prediction[0] == 1 else \"Fake News\"\n",
        "    confidence = probability[0][prediction[0]]\n",
        "\n",
        "    return label, confidence"
      ]
    },
    {
      "cell_type": "code",
      "execution_count": 13,
      "metadata": {},
      "outputs": [
        {
          "name": "stdout",
          "output_type": "stream",
          "text": [
            "Result: Fake News with confidence: 0.96\n"
          ]
        }
      ],
      "source": [
        "\n",
        "sample_text = \"hello world\"\n",
        "result, confidence = detectNews(sample_text)\n",
        "print(f\"Result: {result} with confidence: {confidence:.2f}\")"
      ]
    },
    {
      "cell_type": "markdown",
      "metadata": {
        "id": "B3y5F3kFqDOp"
      },
      "source": [
        "###Check for null values"
      ]
    },
    {
      "cell_type": "code",
      "execution_count": 14,
      "metadata": {
        "colab": {
          "base_uri": "https://localhost:8080/",
          "height": 178
        },
        "id": "Y8zBdGr8l8j6",
        "outputId": "9762d6a3-794a-4ffe-bb3f-73501ebedd1d"
      },
      "outputs": [
        {
          "data": {
            "text/plain": [
              "title    0\n",
              "text     0\n",
              "label    0\n",
              "dtype: int64"
            ]
          },
          "execution_count": 14,
          "metadata": {},
          "output_type": "execute_result"
        }
      ],
      "source": [
        "df.isnull().sum()"
      ]
    },
    {
      "cell_type": "markdown",
      "metadata": {
        "id": "LtrIFpCdqacX"
      },
      "source": [
        "###Check for duplicated values"
      ]
    },
    {
      "cell_type": "code",
      "execution_count": 15,
      "metadata": {
        "colab": {
          "base_uri": "https://localhost:8080/"
        },
        "id": "yPyJJ_RSqYEg",
        "outputId": "6de5f2ce-fd77-41cb-ccd8-353294f5f32a"
      },
      "outputs": [
        {
          "data": {
            "text/plain": [
              "np.int64(5921)"
            ]
          },
          "execution_count": 15,
          "metadata": {},
          "output_type": "execute_result"
        }
      ],
      "source": [
        "df.duplicated().sum()"
      ]
    },
    {
      "cell_type": "code",
      "execution_count": 16,
      "metadata": {
        "id": "z3jHCdJFqicS"
      },
      "outputs": [],
      "source": [
        "df.drop_duplicates(inplace=True)"
      ]
    },
    {
      "cell_type": "code",
      "execution_count": 17,
      "metadata": {
        "colab": {
          "base_uri": "https://localhost:8080/",
          "height": 452
        },
        "id": "PJ7Oik53qxcO",
        "outputId": "b07ea137-f3ab-46f6-9d74-3f5b65f423b3"
      },
      "outputs": [
        {
          "data": {
            "image/png": "[encoded data removed]",
            "text/plain": [
              "<Figure size 640x480 with 1 Axes>"
            ]
          },
          "metadata": {},
          "output_type": "display_data"
        }
      ],
      "source": [
        "sns.countplot(x='label', data=df, color='g')\n",
        "plt.title(\"Title\")\n",
        "plt.xlabel(\"\")\n",
        "plt.ylabel(\"\")\n",
        "plt.xticks([1,0], ['Real', 'Fake'])\n",
        "plt.show()"
      ]
    },
    {
      "cell_type": "markdown",
      "metadata": {
        "id": "jgklJdKzdzh_"
      },
      "source": [
        "#References:\n",
        "1. https://www.kaggle.com/datasets/clmentbisaillon/fake-and-real-news-dataset/data\n"
      ]
    }
  ],
  "metadata": {
    "colab": {
      "provenance": []
    },
    "kernelspec": {
      "display_name": ".venv",
      "language": "python",
      "name": "python3"
    },
    "language_info": {
      "codemirror_mode": {
        "name": "ipython",
        "version": 3
      },
      "file_extension": ".py",
      "mimetype": "text/x-python",
      "name": "python",
      "nbconvert_exporter": "python",
      "pygments_lexer": "ipython3",
      "version": "3.13.1"
    }
  },
  "nbformat": 4,
  "nbformat_minor": 0
}
